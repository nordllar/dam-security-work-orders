{
 "cells": [
  {
   "cell_type": "code",
   "execution_count": 1,
   "metadata": {},
   "outputs": [],
   "source": [
    "import pandas as pd\n",
    "from pathlib import Path"
   ]
  },
  {
   "cell_type": "markdown",
   "metadata": {},
   "source": [
    "## Loading workorders"
   ]
  },
  {
   "cell_type": "code",
   "execution_count": 31,
   "metadata": {},
   "outputs": [],
   "source": [
    "file_name = 'workorders.csv'\n",
    "folder = 'data/source'\n",
    "path = Path.cwd()/folder/file_name"
   ]
  },
  {
   "cell_type": "code",
   "execution_count": 32,
   "metadata": {},
   "outputs": [
    {
     "ename": "FileNotFoundError",
     "evalue": "File b'C:\\\\Users\\\\nordllar\\\\IdeaProjects\\\\dam-security-work-orders\\\\data\\\\data\\\\source\\\\workorders.csv' does not exist",
     "output_type": "error",
     "traceback": [
      "\u001b[1;31m---------------------------------------------------------------------------\u001b[0m",
      "\u001b[1;31mFileNotFoundError\u001b[0m                         Traceback (most recent call last)",
      "\u001b[1;32m<ipython-input-32-7b06c29b8c94>\u001b[0m in \u001b[0;36m<module>\u001b[1;34m()\u001b[0m\n\u001b[1;32m----> 1\u001b[1;33m \u001b[0mdf\u001b[0m \u001b[1;33m=\u001b[0m \u001b[0mpd\u001b[0m\u001b[1;33m.\u001b[0m\u001b[0mread_csv\u001b[0m\u001b[1;33m(\u001b[0m\u001b[0mpath\u001b[0m\u001b[1;33m)\u001b[0m\u001b[1;33m\u001b[0m\u001b[0m\n\u001b[0m",
      "\u001b[1;32m~\\AppData\\Local\\Continuum\\anaconda3\\lib\\site-packages\\pandas\\io\\parsers.py\u001b[0m in \u001b[0;36mparser_f\u001b[1;34m(filepath_or_buffer, sep, delimiter, header, names, index_col, usecols, squeeze, prefix, mangle_dupe_cols, dtype, engine, converters, true_values, false_values, skipinitialspace, skiprows, nrows, na_values, keep_default_na, na_filter, verbose, skip_blank_lines, parse_dates, infer_datetime_format, keep_date_col, date_parser, dayfirst, iterator, chunksize, compression, thousands, decimal, lineterminator, quotechar, quoting, escapechar, comment, encoding, dialect, tupleize_cols, error_bad_lines, warn_bad_lines, skipfooter, doublequote, delim_whitespace, low_memory, memory_map, float_precision)\u001b[0m\n\u001b[0;32m    676\u001b[0m                     skip_blank_lines=skip_blank_lines)\n\u001b[0;32m    677\u001b[0m \u001b[1;33m\u001b[0m\u001b[0m\n\u001b[1;32m--> 678\u001b[1;33m         \u001b[1;32mreturn\u001b[0m \u001b[0m_read\u001b[0m\u001b[1;33m(\u001b[0m\u001b[0mfilepath_or_buffer\u001b[0m\u001b[1;33m,\u001b[0m \u001b[0mkwds\u001b[0m\u001b[1;33m)\u001b[0m\u001b[1;33m\u001b[0m\u001b[0m\n\u001b[0m\u001b[0;32m    679\u001b[0m \u001b[1;33m\u001b[0m\u001b[0m\n\u001b[0;32m    680\u001b[0m     \u001b[0mparser_f\u001b[0m\u001b[1;33m.\u001b[0m\u001b[0m__name__\u001b[0m \u001b[1;33m=\u001b[0m \u001b[0mname\u001b[0m\u001b[1;33m\u001b[0m\u001b[0m\n",
      "\u001b[1;32m~\\AppData\\Local\\Continuum\\anaconda3\\lib\\site-packages\\pandas\\io\\parsers.py\u001b[0m in \u001b[0;36m_read\u001b[1;34m(filepath_or_buffer, kwds)\u001b[0m\n\u001b[0;32m    438\u001b[0m \u001b[1;33m\u001b[0m\u001b[0m\n\u001b[0;32m    439\u001b[0m     \u001b[1;31m# Create the parser.\u001b[0m\u001b[1;33m\u001b[0m\u001b[1;33m\u001b[0m\u001b[0m\n\u001b[1;32m--> 440\u001b[1;33m     \u001b[0mparser\u001b[0m \u001b[1;33m=\u001b[0m \u001b[0mTextFileReader\u001b[0m\u001b[1;33m(\u001b[0m\u001b[0mfilepath_or_buffer\u001b[0m\u001b[1;33m,\u001b[0m \u001b[1;33m**\u001b[0m\u001b[0mkwds\u001b[0m\u001b[1;33m)\u001b[0m\u001b[1;33m\u001b[0m\u001b[0m\n\u001b[0m\u001b[0;32m    441\u001b[0m \u001b[1;33m\u001b[0m\u001b[0m\n\u001b[0;32m    442\u001b[0m     \u001b[1;32mif\u001b[0m \u001b[0mchunksize\u001b[0m \u001b[1;32mor\u001b[0m \u001b[0miterator\u001b[0m\u001b[1;33m:\u001b[0m\u001b[1;33m\u001b[0m\u001b[0m\n",
      "\u001b[1;32m~\\AppData\\Local\\Continuum\\anaconda3\\lib\\site-packages\\pandas\\io\\parsers.py\u001b[0m in \u001b[0;36m__init__\u001b[1;34m(self, f, engine, **kwds)\u001b[0m\n\u001b[0;32m    785\u001b[0m             \u001b[0mself\u001b[0m\u001b[1;33m.\u001b[0m\u001b[0moptions\u001b[0m\u001b[1;33m[\u001b[0m\u001b[1;34m'has_index_names'\u001b[0m\u001b[1;33m]\u001b[0m \u001b[1;33m=\u001b[0m \u001b[0mkwds\u001b[0m\u001b[1;33m[\u001b[0m\u001b[1;34m'has_index_names'\u001b[0m\u001b[1;33m]\u001b[0m\u001b[1;33m\u001b[0m\u001b[0m\n\u001b[0;32m    786\u001b[0m \u001b[1;33m\u001b[0m\u001b[0m\n\u001b[1;32m--> 787\u001b[1;33m         \u001b[0mself\u001b[0m\u001b[1;33m.\u001b[0m\u001b[0m_make_engine\u001b[0m\u001b[1;33m(\u001b[0m\u001b[0mself\u001b[0m\u001b[1;33m.\u001b[0m\u001b[0mengine\u001b[0m\u001b[1;33m)\u001b[0m\u001b[1;33m\u001b[0m\u001b[0m\n\u001b[0m\u001b[0;32m    788\u001b[0m \u001b[1;33m\u001b[0m\u001b[0m\n\u001b[0;32m    789\u001b[0m     \u001b[1;32mdef\u001b[0m \u001b[0mclose\u001b[0m\u001b[1;33m(\u001b[0m\u001b[0mself\u001b[0m\u001b[1;33m)\u001b[0m\u001b[1;33m:\u001b[0m\u001b[1;33m\u001b[0m\u001b[0m\n",
      "\u001b[1;32m~\\AppData\\Local\\Continuum\\anaconda3\\lib\\site-packages\\pandas\\io\\parsers.py\u001b[0m in \u001b[0;36m_make_engine\u001b[1;34m(self, engine)\u001b[0m\n\u001b[0;32m   1012\u001b[0m     \u001b[1;32mdef\u001b[0m \u001b[0m_make_engine\u001b[0m\u001b[1;33m(\u001b[0m\u001b[0mself\u001b[0m\u001b[1;33m,\u001b[0m \u001b[0mengine\u001b[0m\u001b[1;33m=\u001b[0m\u001b[1;34m'c'\u001b[0m\u001b[1;33m)\u001b[0m\u001b[1;33m:\u001b[0m\u001b[1;33m\u001b[0m\u001b[0m\n\u001b[0;32m   1013\u001b[0m         \u001b[1;32mif\u001b[0m \u001b[0mengine\u001b[0m \u001b[1;33m==\u001b[0m \u001b[1;34m'c'\u001b[0m\u001b[1;33m:\u001b[0m\u001b[1;33m\u001b[0m\u001b[0m\n\u001b[1;32m-> 1014\u001b[1;33m             \u001b[0mself\u001b[0m\u001b[1;33m.\u001b[0m\u001b[0m_engine\u001b[0m \u001b[1;33m=\u001b[0m \u001b[0mCParserWrapper\u001b[0m\u001b[1;33m(\u001b[0m\u001b[0mself\u001b[0m\u001b[1;33m.\u001b[0m\u001b[0mf\u001b[0m\u001b[1;33m,\u001b[0m \u001b[1;33m**\u001b[0m\u001b[0mself\u001b[0m\u001b[1;33m.\u001b[0m\u001b[0moptions\u001b[0m\u001b[1;33m)\u001b[0m\u001b[1;33m\u001b[0m\u001b[0m\n\u001b[0m\u001b[0;32m   1015\u001b[0m         \u001b[1;32melse\u001b[0m\u001b[1;33m:\u001b[0m\u001b[1;33m\u001b[0m\u001b[0m\n\u001b[0;32m   1016\u001b[0m             \u001b[1;32mif\u001b[0m \u001b[0mengine\u001b[0m \u001b[1;33m==\u001b[0m \u001b[1;34m'python'\u001b[0m\u001b[1;33m:\u001b[0m\u001b[1;33m\u001b[0m\u001b[0m\n",
      "\u001b[1;32m~\\AppData\\Local\\Continuum\\anaconda3\\lib\\site-packages\\pandas\\io\\parsers.py\u001b[0m in \u001b[0;36m__init__\u001b[1;34m(self, src, **kwds)\u001b[0m\n\u001b[0;32m   1706\u001b[0m         \u001b[0mkwds\u001b[0m\u001b[1;33m[\u001b[0m\u001b[1;34m'usecols'\u001b[0m\u001b[1;33m]\u001b[0m \u001b[1;33m=\u001b[0m \u001b[0mself\u001b[0m\u001b[1;33m.\u001b[0m\u001b[0musecols\u001b[0m\u001b[1;33m\u001b[0m\u001b[0m\n\u001b[0;32m   1707\u001b[0m \u001b[1;33m\u001b[0m\u001b[0m\n\u001b[1;32m-> 1708\u001b[1;33m         \u001b[0mself\u001b[0m\u001b[1;33m.\u001b[0m\u001b[0m_reader\u001b[0m \u001b[1;33m=\u001b[0m \u001b[0mparsers\u001b[0m\u001b[1;33m.\u001b[0m\u001b[0mTextReader\u001b[0m\u001b[1;33m(\u001b[0m\u001b[0msrc\u001b[0m\u001b[1;33m,\u001b[0m \u001b[1;33m**\u001b[0m\u001b[0mkwds\u001b[0m\u001b[1;33m)\u001b[0m\u001b[1;33m\u001b[0m\u001b[0m\n\u001b[0m\u001b[0;32m   1709\u001b[0m \u001b[1;33m\u001b[0m\u001b[0m\n\u001b[0;32m   1710\u001b[0m         \u001b[0mpassed_names\u001b[0m \u001b[1;33m=\u001b[0m \u001b[0mself\u001b[0m\u001b[1;33m.\u001b[0m\u001b[0mnames\u001b[0m \u001b[1;32mis\u001b[0m \u001b[1;32mNone\u001b[0m\u001b[1;33m\u001b[0m\u001b[0m\n",
      "\u001b[1;32mpandas\\_libs\\parsers.pyx\u001b[0m in \u001b[0;36mpandas._libs.parsers.TextReader.__cinit__\u001b[1;34m()\u001b[0m\n",
      "\u001b[1;32mpandas\\_libs\\parsers.pyx\u001b[0m in \u001b[0;36mpandas._libs.parsers.TextReader._setup_parser_source\u001b[1;34m()\u001b[0m\n",
      "\u001b[1;31mFileNotFoundError\u001b[0m: File b'C:\\\\Users\\\\nordllar\\\\IdeaProjects\\\\dam-security-work-orders\\\\data\\\\data\\\\source\\\\workorders.csv' does not exist"
     ]
    }
   ],
   "source": [
    "df = pd.read_csv(path)"
   ]
  },
  {
   "cell_type": "code",
   "execution_count": 4,
   "metadata": {},
   "outputs": [
    {
     "name": "stdout",
     "output_type": "stream",
     "text": [
      "<class 'pandas.core.frame.DataFrame'>\n",
      "RangeIndex: 8272980 entries, 0 to 8272979\n",
      "Data columns (total 9 columns):\n",
      "%KEY_Wonum     object\n",
      "WONUM          object\n",
      "WORKTYPE       float64\n",
      "LEAD           object\n",
      "DESCRIPTION    object\n",
      "LOCATION       object\n",
      "FAILDATE       object\n",
      "ACTSTART       object\n",
      "ACTFINISH      object\n",
      "dtypes: float64(1), object(8)\n",
      "memory usage: 568.1+ MB\n"
     ]
    }
   ],
   "source": [
    "df.info()"
   ]
  },
  {
   "cell_type": "code",
   "execution_count": 5,
   "metadata": {},
   "outputs": [],
   "source": [
    "# Casting object to datetime\n",
    "df['FAILDATE'] = pd.to_datetime(df['FAILDATE'], format='%d.%m.%Y %H.%M.%S')\n",
    "df['ACTSTART'] = pd.to_datetime(df['ACTSTART'], format='%d.%m.%Y %H.%M.%S')\n",
    "df['ACTFINISH'] = pd.to_datetime(df['ACTFINISH'], format='%d.%m.%Y %H.%M.%S')"
   ]
  },
  {
   "cell_type": "code",
   "execution_count": 6,
   "metadata": {},
   "outputs": [],
   "source": [
    "#df.info()"
   ]
  },
  {
   "cell_type": "code",
   "execution_count": 7,
   "metadata": {},
   "outputs": [],
   "source": [
    "# Using and redoing LOCATION to be able to join workorder with plants and rivers\n",
    "df['LOCATION2'] = df['LOCATION'].astype(str).str[0:17]"
   ]
  },
  {
   "cell_type": "code",
   "execution_count": 8,
   "metadata": {},
   "outputs": [
    {
     "data": {
      "text/html": [
       "<div>\n",
       "<style scoped>\n",
       "    .dataframe tbody tr th:only-of-type {\n",
       "        vertical-align: middle;\n",
       "    }\n",
       "\n",
       "    .dataframe tbody tr th {\n",
       "        vertical-align: top;\n",
       "    }\n",
       "\n",
       "    .dataframe thead th {\n",
       "        text-align: right;\n",
       "    }\n",
       "</style>\n",
       "<table border=\"1\" class=\"dataframe\">\n",
       "  <thead>\n",
       "    <tr style=\"text-align: right;\">\n",
       "      <th></th>\n",
       "      <th>%KEY_Wonum</th>\n",
       "      <th>WONUM</th>\n",
       "      <th>WORKTYPE</th>\n",
       "      <th>LEAD</th>\n",
       "      <th>DESCRIPTION</th>\n",
       "      <th>LOCATION</th>\n",
       "      <th>FAILDATE</th>\n",
       "      <th>ACTSTART</th>\n",
       "      <th>ACTFINISH</th>\n",
       "      <th>LOCATION2</th>\n",
       "    </tr>\n",
       "  </thead>\n",
       "  <tbody>\n",
       "    <tr>\n",
       "      <th>0</th>\n",
       "      <td>FORTUMSE|HYSE|GHS5254547</td>\n",
       "      <td>GHS5254547</td>\n",
       "      <td>400.0</td>\n",
       "      <td>NaN</td>\n",
       "      <td>Projektledning G1 till G3</td>\n",
       "      <td>SE.053.000.260URA-0</td>\n",
       "      <td>NaT</td>\n",
       "      <td>NaT</td>\n",
       "      <td>NaT</td>\n",
       "      <td>SE.053.000.260URA</td>\n",
       "    </tr>\n",
       "    <tr>\n",
       "      <th>1</th>\n",
       "      <td>FORTUMSE|HYSE|GHS5266601</td>\n",
       "      <td>GHS5266601</td>\n",
       "      <td>400.0</td>\n",
       "      <td>XSEGERMAL</td>\n",
       "      <td>SHF, O&amp;M</td>\n",
       "      <td>SE.040.000.025SHF</td>\n",
       "      <td>NaT</td>\n",
       "      <td>2019-10-07</td>\n",
       "      <td>2019-10-07</td>\n",
       "      <td>SE.040.000.025SHF</td>\n",
       "    </tr>\n",
       "    <tr>\n",
       "      <th>2</th>\n",
       "      <td>FORTUM|HYFI|717625</td>\n",
       "      <td>717625</td>\n",
       "      <td>220.0</td>\n",
       "      <td>MATTIJUH</td>\n",
       "      <td>NU VIIKKOHUOLTO</td>\n",
       "      <td>FI.059.59A.NU</td>\n",
       "      <td>NaT</td>\n",
       "      <td>NaT</td>\n",
       "      <td>NaT</td>\n",
       "      <td>FI.059.59A.NU</td>\n",
       "    </tr>\n",
       "    <tr>\n",
       "      <th>3</th>\n",
       "      <td>FORTUM|HYFI|717781</td>\n",
       "      <td>717781</td>\n",
       "      <td>220.0</td>\n",
       "      <td>MATTIJUH</td>\n",
       "      <td>ÄMM VIIKKOHUOLTO</td>\n",
       "      <td>FI.059.59B.ÄMM</td>\n",
       "      <td>NaT</td>\n",
       "      <td>NaT</td>\n",
       "      <td>NaT</td>\n",
       "      <td>FI.059.59B.ÄMM</td>\n",
       "    </tr>\n",
       "    <tr>\n",
       "      <th>4</th>\n",
       "      <td>FORTUM|HYFI|717129</td>\n",
       "      <td>717129</td>\n",
       "      <td>220.0</td>\n",
       "      <td>MATTIJUH</td>\n",
       "      <td>UT VIIKKOHUOLTO</td>\n",
       "      <td>FI.059.59A.UT</td>\n",
       "      <td>NaT</td>\n",
       "      <td>NaT</td>\n",
       "      <td>NaT</td>\n",
       "      <td>FI.059.59A.UT</td>\n",
       "    </tr>\n",
       "  </tbody>\n",
       "</table>\n",
       "</div>"
      ],
      "text/plain": [
       "                 %KEY_Wonum       WONUM  WORKTYPE       LEAD  \\\n",
       "0  FORTUMSE|HYSE|GHS5254547  GHS5254547     400.0        NaN   \n",
       "1  FORTUMSE|HYSE|GHS5266601  GHS5266601     400.0  XSEGERMAL   \n",
       "2        FORTUM|HYFI|717625      717625     220.0   MATTIJUH   \n",
       "3        FORTUM|HYFI|717781      717781     220.0   MATTIJUH   \n",
       "4        FORTUM|HYFI|717129      717129     220.0   MATTIJUH   \n",
       "\n",
       "                 DESCRIPTION             LOCATION FAILDATE   ACTSTART  \\\n",
       "0  Projektledning G1 till G3  SE.053.000.260URA-0      NaT        NaT   \n",
       "1                   SHF, O&M    SE.040.000.025SHF      NaT 2019-10-07   \n",
       "2            NU VIIKKOHUOLTO        FI.059.59A.NU      NaT        NaT   \n",
       "3           ÄMM VIIKKOHUOLTO       FI.059.59B.ÄMM      NaT        NaT   \n",
       "4            UT VIIKKOHUOLTO        FI.059.59A.UT      NaT        NaT   \n",
       "\n",
       "   ACTFINISH          LOCATION2  \n",
       "0        NaT  SE.053.000.260URA  \n",
       "1 2019-10-07  SE.040.000.025SHF  \n",
       "2        NaT      FI.059.59A.NU  \n",
       "3        NaT     FI.059.59B.ÄMM  \n",
       "4        NaT      FI.059.59A.UT  "
      ]
     },
     "execution_count": 8,
     "metadata": {},
     "output_type": "execute_result"
    }
   ],
   "source": [
    "df.head()"
   ]
  },
  {
   "cell_type": "code",
   "execution_count": 9,
   "metadata": {},
   "outputs": [],
   "source": [
    "# Splitting %KEY_Wonum into three parts, using \"WORKORDERDETAILS\" as workorder name (the same as \"WONUM\", was not in earlier exports) and \"COUNTRY\" for filtering out Swedish workorders.\n",
    "df[['COMPANY','COUNTRY','WORKORDERID']] = df['%KEY_Wonum'].str.split(\"|\",expand=True,)"
   ]
  },
  {
   "cell_type": "code",
   "execution_count": 10,
   "metadata": {},
   "outputs": [
    {
     "data": {
      "text/html": [
       "<div>\n",
       "<style scoped>\n",
       "    .dataframe tbody tr th:only-of-type {\n",
       "        vertical-align: middle;\n",
       "    }\n",
       "\n",
       "    .dataframe tbody tr th {\n",
       "        vertical-align: top;\n",
       "    }\n",
       "\n",
       "    .dataframe thead th {\n",
       "        text-align: right;\n",
       "    }\n",
       "</style>\n",
       "<table border=\"1\" class=\"dataframe\">\n",
       "  <thead>\n",
       "    <tr style=\"text-align: right;\">\n",
       "      <th></th>\n",
       "      <th>%KEY_Wonum</th>\n",
       "      <th>WONUM</th>\n",
       "      <th>WORKTYPE</th>\n",
       "      <th>LEAD</th>\n",
       "      <th>DESCRIPTION</th>\n",
       "      <th>LOCATION</th>\n",
       "      <th>FAILDATE</th>\n",
       "      <th>ACTSTART</th>\n",
       "      <th>ACTFINISH</th>\n",
       "      <th>LOCATION2</th>\n",
       "      <th>COMPANY</th>\n",
       "      <th>COUNTRY</th>\n",
       "      <th>WORKORDERID</th>\n",
       "    </tr>\n",
       "  </thead>\n",
       "  <tbody>\n",
       "    <tr>\n",
       "      <th>0</th>\n",
       "      <td>FORTUMSE|HYSE|GHS5254547</td>\n",
       "      <td>GHS5254547</td>\n",
       "      <td>400.0</td>\n",
       "      <td>NaN</td>\n",
       "      <td>Projektledning G1 till G3</td>\n",
       "      <td>SE.053.000.260URA-0</td>\n",
       "      <td>NaT</td>\n",
       "      <td>NaT</td>\n",
       "      <td>NaT</td>\n",
       "      <td>SE.053.000.260URA</td>\n",
       "      <td>FORTUMSE</td>\n",
       "      <td>HYSE</td>\n",
       "      <td>GHS5254547</td>\n",
       "    </tr>\n",
       "    <tr>\n",
       "      <th>1</th>\n",
       "      <td>FORTUMSE|HYSE|GHS5266601</td>\n",
       "      <td>GHS5266601</td>\n",
       "      <td>400.0</td>\n",
       "      <td>XSEGERMAL</td>\n",
       "      <td>SHF, O&amp;M</td>\n",
       "      <td>SE.040.000.025SHF</td>\n",
       "      <td>NaT</td>\n",
       "      <td>2019-10-07</td>\n",
       "      <td>2019-10-07</td>\n",
       "      <td>SE.040.000.025SHF</td>\n",
       "      <td>FORTUMSE</td>\n",
       "      <td>HYSE</td>\n",
       "      <td>GHS5266601</td>\n",
       "    </tr>\n",
       "    <tr>\n",
       "      <th>2</th>\n",
       "      <td>FORTUM|HYFI|717625</td>\n",
       "      <td>717625</td>\n",
       "      <td>220.0</td>\n",
       "      <td>MATTIJUH</td>\n",
       "      <td>NU VIIKKOHUOLTO</td>\n",
       "      <td>FI.059.59A.NU</td>\n",
       "      <td>NaT</td>\n",
       "      <td>NaT</td>\n",
       "      <td>NaT</td>\n",
       "      <td>FI.059.59A.NU</td>\n",
       "      <td>FORTUM</td>\n",
       "      <td>HYFI</td>\n",
       "      <td>717625</td>\n",
       "    </tr>\n",
       "    <tr>\n",
       "      <th>3</th>\n",
       "      <td>FORTUM|HYFI|717781</td>\n",
       "      <td>717781</td>\n",
       "      <td>220.0</td>\n",
       "      <td>MATTIJUH</td>\n",
       "      <td>ÄMM VIIKKOHUOLTO</td>\n",
       "      <td>FI.059.59B.ÄMM</td>\n",
       "      <td>NaT</td>\n",
       "      <td>NaT</td>\n",
       "      <td>NaT</td>\n",
       "      <td>FI.059.59B.ÄMM</td>\n",
       "      <td>FORTUM</td>\n",
       "      <td>HYFI</td>\n",
       "      <td>717781</td>\n",
       "    </tr>\n",
       "    <tr>\n",
       "      <th>4</th>\n",
       "      <td>FORTUM|HYFI|717129</td>\n",
       "      <td>717129</td>\n",
       "      <td>220.0</td>\n",
       "      <td>MATTIJUH</td>\n",
       "      <td>UT VIIKKOHUOLTO</td>\n",
       "      <td>FI.059.59A.UT</td>\n",
       "      <td>NaT</td>\n",
       "      <td>NaT</td>\n",
       "      <td>NaT</td>\n",
       "      <td>FI.059.59A.UT</td>\n",
       "      <td>FORTUM</td>\n",
       "      <td>HYFI</td>\n",
       "      <td>717129</td>\n",
       "    </tr>\n",
       "  </tbody>\n",
       "</table>\n",
       "</div>"
      ],
      "text/plain": [
       "                 %KEY_Wonum       WONUM  WORKTYPE       LEAD  \\\n",
       "0  FORTUMSE|HYSE|GHS5254547  GHS5254547     400.0        NaN   \n",
       "1  FORTUMSE|HYSE|GHS5266601  GHS5266601     400.0  XSEGERMAL   \n",
       "2        FORTUM|HYFI|717625      717625     220.0   MATTIJUH   \n",
       "3        FORTUM|HYFI|717781      717781     220.0   MATTIJUH   \n",
       "4        FORTUM|HYFI|717129      717129     220.0   MATTIJUH   \n",
       "\n",
       "                 DESCRIPTION             LOCATION FAILDATE   ACTSTART  \\\n",
       "0  Projektledning G1 till G3  SE.053.000.260URA-0      NaT        NaT   \n",
       "1                   SHF, O&M    SE.040.000.025SHF      NaT 2019-10-07   \n",
       "2            NU VIIKKOHUOLTO        FI.059.59A.NU      NaT        NaT   \n",
       "3           ÄMM VIIKKOHUOLTO       FI.059.59B.ÄMM      NaT        NaT   \n",
       "4            UT VIIKKOHUOLTO        FI.059.59A.UT      NaT        NaT   \n",
       "\n",
       "   ACTFINISH          LOCATION2   COMPANY COUNTRY WORKORDERID  \n",
       "0        NaT  SE.053.000.260URA  FORTUMSE    HYSE  GHS5254547  \n",
       "1 2019-10-07  SE.040.000.025SHF  FORTUMSE    HYSE  GHS5266601  \n",
       "2        NaT      FI.059.59A.NU    FORTUM    HYFI      717625  \n",
       "3        NaT     FI.059.59B.ÄMM    FORTUM    HYFI      717781  \n",
       "4        NaT      FI.059.59A.UT    FORTUM    HYFI      717129  "
      ]
     },
     "execution_count": 10,
     "metadata": {},
     "output_type": "execute_result"
    }
   ],
   "source": [
    "df.head()"
   ]
  },
  {
   "cell_type": "code",
   "execution_count": 14,
   "metadata": {},
   "outputs": [],
   "source": [
    "# Filtering out Swedish workorders and dropping the old index\n",
    "df = df.loc[df['COUNTRY'] =='HYSE'].reset_index(drop=True)"
   ]
  },
  {
   "cell_type": "code",
   "execution_count": 15,
   "metadata": {},
   "outputs": [
    {
     "data": {
      "text/html": [
       "<div>\n",
       "<style scoped>\n",
       "    .dataframe tbody tr th:only-of-type {\n",
       "        vertical-align: middle;\n",
       "    }\n",
       "\n",
       "    .dataframe tbody tr th {\n",
       "        vertical-align: top;\n",
       "    }\n",
       "\n",
       "    .dataframe thead th {\n",
       "        text-align: right;\n",
       "    }\n",
       "</style>\n",
       "<table border=\"1\" class=\"dataframe\">\n",
       "  <thead>\n",
       "    <tr style=\"text-align: right;\">\n",
       "      <th></th>\n",
       "      <th>%KEY_Wonum</th>\n",
       "      <th>WONUM</th>\n",
       "      <th>WORKTYPE</th>\n",
       "      <th>LEAD</th>\n",
       "      <th>DESCRIPTION</th>\n",
       "      <th>LOCATION</th>\n",
       "      <th>FAILDATE</th>\n",
       "      <th>ACTSTART</th>\n",
       "      <th>ACTFINISH</th>\n",
       "      <th>LOCATION2</th>\n",
       "      <th>COMPANY</th>\n",
       "      <th>COUNTRY</th>\n",
       "      <th>WORKORDERID</th>\n",
       "    </tr>\n",
       "  </thead>\n",
       "  <tbody>\n",
       "    <tr>\n",
       "      <th>0</th>\n",
       "      <td>FORTUMSE|HYSE|GHS5254547</td>\n",
       "      <td>GHS5254547</td>\n",
       "      <td>400.0</td>\n",
       "      <td>NaN</td>\n",
       "      <td>Projektledning G1 till G3</td>\n",
       "      <td>SE.053.000.260URA-0</td>\n",
       "      <td>NaT</td>\n",
       "      <td>NaT</td>\n",
       "      <td>NaT</td>\n",
       "      <td>SE.053.000.260URA</td>\n",
       "      <td>FORTUMSE</td>\n",
       "      <td>HYSE</td>\n",
       "      <td>GHS5254547</td>\n",
       "    </tr>\n",
       "    <tr>\n",
       "      <th>1</th>\n",
       "      <td>FORTUMSE|HYSE|GHS5266601</td>\n",
       "      <td>GHS5266601</td>\n",
       "      <td>400.0</td>\n",
       "      <td>XSEGERMAL</td>\n",
       "      <td>SHF, O&amp;M</td>\n",
       "      <td>SE.040.000.025SHF</td>\n",
       "      <td>NaT</td>\n",
       "      <td>2019-10-07 00:00:00</td>\n",
       "      <td>2019-10-07</td>\n",
       "      <td>SE.040.000.025SHF</td>\n",
       "      <td>FORTUMSE</td>\n",
       "      <td>HYSE</td>\n",
       "      <td>GHS5266601</td>\n",
       "    </tr>\n",
       "    <tr>\n",
       "      <th>2</th>\n",
       "      <td>FORTUMSE|HYSE|GHS7340308</td>\n",
       "      <td>GHS7340308</td>\n",
       "      <td>310.0</td>\n",
       "      <td>NaN</td>\n",
       "      <td>FBL: A-larm</td>\n",
       "      <td>SE.108.050.028FBL-1MKC10</td>\n",
       "      <td>2019-11-14 12:45:22</td>\n",
       "      <td>2019-07-10 00:02:28</td>\n",
       "      <td>2019-07-10</td>\n",
       "      <td>SE.108.050.028FBL</td>\n",
       "      <td>FORTUMSE</td>\n",
       "      <td>HYSE</td>\n",
       "      <td>GHS7340308</td>\n",
       "    </tr>\n",
       "    <tr>\n",
       "      <th>3</th>\n",
       "      <td>FORTUMSE|HYSE|GHS7340397</td>\n",
       "      <td>GHS7340397</td>\n",
       "      <td>310.0</td>\n",
       "      <td>NaN</td>\n",
       "      <td>TBY: A-larm</td>\n",
       "      <td>SE.108.050.015TBY-0</td>\n",
       "      <td>2019-11-14 13:30:18</td>\n",
       "      <td>2019-07-12 21:45:58</td>\n",
       "      <td>2019-07-15</td>\n",
       "      <td>SE.108.050.015TBY</td>\n",
       "      <td>FORTUMSE</td>\n",
       "      <td>HYSE</td>\n",
       "      <td>GHS7340397</td>\n",
       "    </tr>\n",
       "    <tr>\n",
       "      <th>4</th>\n",
       "      <td>FORTUMSE|HYSE|GHS7340401</td>\n",
       "      <td>GHS7340401</td>\n",
       "      <td>310.0</td>\n",
       "      <td>NaN</td>\n",
       "      <td>EVA: A-larm</td>\n",
       "      <td>SE.108.050.081EVA-1</td>\n",
       "      <td>2019-11-14 13:30:24</td>\n",
       "      <td>2019-07-12 23:15:17</td>\n",
       "      <td>2019-07-15</td>\n",
       "      <td>SE.108.050.081EVA</td>\n",
       "      <td>FORTUMSE</td>\n",
       "      <td>HYSE</td>\n",
       "      <td>GHS7340401</td>\n",
       "    </tr>\n",
       "  </tbody>\n",
       "</table>\n",
       "</div>"
      ],
      "text/plain": [
       "                 %KEY_Wonum       WONUM  WORKTYPE       LEAD  \\\n",
       "0  FORTUMSE|HYSE|GHS5254547  GHS5254547     400.0        NaN   \n",
       "1  FORTUMSE|HYSE|GHS5266601  GHS5266601     400.0  XSEGERMAL   \n",
       "2  FORTUMSE|HYSE|GHS7340308  GHS7340308     310.0        NaN   \n",
       "3  FORTUMSE|HYSE|GHS7340397  GHS7340397     310.0        NaN   \n",
       "4  FORTUMSE|HYSE|GHS7340401  GHS7340401     310.0        NaN   \n",
       "\n",
       "                 DESCRIPTION                  LOCATION            FAILDATE  \\\n",
       "0  Projektledning G1 till G3       SE.053.000.260URA-0                 NaT   \n",
       "1                   SHF, O&M         SE.040.000.025SHF                 NaT   \n",
       "2                FBL: A-larm  SE.108.050.028FBL-1MKC10 2019-11-14 12:45:22   \n",
       "3                TBY: A-larm       SE.108.050.015TBY-0 2019-11-14 13:30:18   \n",
       "4                EVA: A-larm       SE.108.050.081EVA-1 2019-11-14 13:30:24   \n",
       "\n",
       "             ACTSTART  ACTFINISH          LOCATION2   COMPANY COUNTRY  \\\n",
       "0                 NaT        NaT  SE.053.000.260URA  FORTUMSE    HYSE   \n",
       "1 2019-10-07 00:00:00 2019-10-07  SE.040.000.025SHF  FORTUMSE    HYSE   \n",
       "2 2019-07-10 00:02:28 2019-07-10  SE.108.050.028FBL  FORTUMSE    HYSE   \n",
       "3 2019-07-12 21:45:58 2019-07-15  SE.108.050.015TBY  FORTUMSE    HYSE   \n",
       "4 2019-07-12 23:15:17 2019-07-15  SE.108.050.081EVA  FORTUMSE    HYSE   \n",
       "\n",
       "  WORKORDERID  \n",
       "0  GHS5254547  \n",
       "1  GHS5266601  \n",
       "2  GHS7340308  \n",
       "3  GHS7340397  \n",
       "4  GHS7340401  "
      ]
     },
     "execution_count": 15,
     "metadata": {},
     "output_type": "execute_result"
    }
   ],
   "source": [
    "df.head()"
   ]
  },
  {
   "cell_type": "code",
   "execution_count": 16,
   "metadata": {},
   "outputs": [],
   "source": [
    "# Renaming %KEY... column\n",
    "df = df.rename(columns={'%KEY_Wonum': 'WORKNUMKEY'})"
   ]
  },
  {
   "cell_type": "markdown",
   "metadata": {},
   "source": [
    "### Adding Worktype description"
   ]
  },
  {
   "cell_type": "code",
   "execution_count": 17,
   "metadata": {},
   "outputs": [
    {
     "data": {
      "text/plain": [
       "array([400., 310., 220., 100., 230., 320., 500., 210.,  nan, 200.])"
      ]
     },
     "execution_count": 17,
     "metadata": {},
     "output_type": "execute_result"
    }
   ],
   "source": [
    "df['WORKTYPE'].unique()"
   ]
  },
  {
   "cell_type": "code",
   "execution_count": 18,
   "metadata": {},
   "outputs": [],
   "source": [
    "worktype_description = {\n",
    "    100: 'Förvaltning',\n",
    "    210: 'Planering av underhåll',\n",
    "    220: 'Förutbestämt underhåll',\n",
    "    230: 'Tillståndsbaserat underhåll',\n",
    "    310: 'Akut underhåll',\n",
    "    320: 'Uppskjutet underhåll',\n",
    "    400: 'Investering',\n",
    "    500: 'Drift'\n",
    "}"
   ]
  },
  {
   "cell_type": "code",
   "execution_count": 20,
   "metadata": {},
   "outputs": [],
   "source": [
    "df['WORKTYPE_DESCRIPTION'] = df['WORKTYPE'].map(worktype_description)"
   ]
  },
  {
   "cell_type": "code",
   "execution_count": 21,
   "metadata": {},
   "outputs": [
    {
     "data": {
      "text/html": [
       "<div>\n",
       "<style scoped>\n",
       "    .dataframe tbody tr th:only-of-type {\n",
       "        vertical-align: middle;\n",
       "    }\n",
       "\n",
       "    .dataframe tbody tr th {\n",
       "        vertical-align: top;\n",
       "    }\n",
       "\n",
       "    .dataframe thead th {\n",
       "        text-align: right;\n",
       "    }\n",
       "</style>\n",
       "<table border=\"1\" class=\"dataframe\">\n",
       "  <thead>\n",
       "    <tr style=\"text-align: right;\">\n",
       "      <th></th>\n",
       "      <th>WORKNUMKEY</th>\n",
       "      <th>WONUM</th>\n",
       "      <th>WORKTYPE</th>\n",
       "      <th>LEAD</th>\n",
       "      <th>DESCRIPTION</th>\n",
       "      <th>LOCATION</th>\n",
       "      <th>FAILDATE</th>\n",
       "      <th>ACTSTART</th>\n",
       "      <th>ACTFINISH</th>\n",
       "      <th>LOCATION2</th>\n",
       "      <th>COMPANY</th>\n",
       "      <th>COUNTRY</th>\n",
       "      <th>WORKORDERID</th>\n",
       "      <th>WORKTYPE_DESCRIPTION</th>\n",
       "    </tr>\n",
       "  </thead>\n",
       "  <tbody>\n",
       "    <tr>\n",
       "      <th>0</th>\n",
       "      <td>FORTUMSE|HYSE|GHS5254547</td>\n",
       "      <td>GHS5254547</td>\n",
       "      <td>400.0</td>\n",
       "      <td>NaN</td>\n",
       "      <td>Projektledning G1 till G3</td>\n",
       "      <td>SE.053.000.260URA-0</td>\n",
       "      <td>NaT</td>\n",
       "      <td>NaT</td>\n",
       "      <td>NaT</td>\n",
       "      <td>SE.053.000.260URA</td>\n",
       "      <td>FORTUMSE</td>\n",
       "      <td>HYSE</td>\n",
       "      <td>GHS5254547</td>\n",
       "      <td>Investering</td>\n",
       "    </tr>\n",
       "    <tr>\n",
       "      <th>1</th>\n",
       "      <td>FORTUMSE|HYSE|GHS5266601</td>\n",
       "      <td>GHS5266601</td>\n",
       "      <td>400.0</td>\n",
       "      <td>XSEGERMAL</td>\n",
       "      <td>SHF, O&amp;M</td>\n",
       "      <td>SE.040.000.025SHF</td>\n",
       "      <td>NaT</td>\n",
       "      <td>2019-10-07 00:00:00</td>\n",
       "      <td>2019-10-07</td>\n",
       "      <td>SE.040.000.025SHF</td>\n",
       "      <td>FORTUMSE</td>\n",
       "      <td>HYSE</td>\n",
       "      <td>GHS5266601</td>\n",
       "      <td>Investering</td>\n",
       "    </tr>\n",
       "    <tr>\n",
       "      <th>2</th>\n",
       "      <td>FORTUMSE|HYSE|GHS7340308</td>\n",
       "      <td>GHS7340308</td>\n",
       "      <td>310.0</td>\n",
       "      <td>NaN</td>\n",
       "      <td>FBL: A-larm</td>\n",
       "      <td>SE.108.050.028FBL-1MKC10</td>\n",
       "      <td>2019-11-14 12:45:22</td>\n",
       "      <td>2019-07-10 00:02:28</td>\n",
       "      <td>2019-07-10</td>\n",
       "      <td>SE.108.050.028FBL</td>\n",
       "      <td>FORTUMSE</td>\n",
       "      <td>HYSE</td>\n",
       "      <td>GHS7340308</td>\n",
       "      <td>Akut underhåll</td>\n",
       "    </tr>\n",
       "    <tr>\n",
       "      <th>3</th>\n",
       "      <td>FORTUMSE|HYSE|GHS7340397</td>\n",
       "      <td>GHS7340397</td>\n",
       "      <td>310.0</td>\n",
       "      <td>NaN</td>\n",
       "      <td>TBY: A-larm</td>\n",
       "      <td>SE.108.050.015TBY-0</td>\n",
       "      <td>2019-11-14 13:30:18</td>\n",
       "      <td>2019-07-12 21:45:58</td>\n",
       "      <td>2019-07-15</td>\n",
       "      <td>SE.108.050.015TBY</td>\n",
       "      <td>FORTUMSE</td>\n",
       "      <td>HYSE</td>\n",
       "      <td>GHS7340397</td>\n",
       "      <td>Akut underhåll</td>\n",
       "    </tr>\n",
       "    <tr>\n",
       "      <th>4</th>\n",
       "      <td>FORTUMSE|HYSE|GHS7340401</td>\n",
       "      <td>GHS7340401</td>\n",
       "      <td>310.0</td>\n",
       "      <td>NaN</td>\n",
       "      <td>EVA: A-larm</td>\n",
       "      <td>SE.108.050.081EVA-1</td>\n",
       "      <td>2019-11-14 13:30:24</td>\n",
       "      <td>2019-07-12 23:15:17</td>\n",
       "      <td>2019-07-15</td>\n",
       "      <td>SE.108.050.081EVA</td>\n",
       "      <td>FORTUMSE</td>\n",
       "      <td>HYSE</td>\n",
       "      <td>GHS7340401</td>\n",
       "      <td>Akut underhåll</td>\n",
       "    </tr>\n",
       "    <tr>\n",
       "      <th>5</th>\n",
       "      <td>FORTUMSE|HYSE|GHS7349732</td>\n",
       "      <td>GHS7349732</td>\n",
       "      <td>310.0</td>\n",
       "      <td>NaN</td>\n",
       "      <td>ÅFS: A-larm</td>\n",
       "      <td>SE.108.028.012ÅFS-2</td>\n",
       "      <td>2019-11-14 14:16:58</td>\n",
       "      <td>2019-07-26 15:01:35</td>\n",
       "      <td>2019-07-26</td>\n",
       "      <td>SE.108.028.012ÅFS</td>\n",
       "      <td>FORTUMSE</td>\n",
       "      <td>HYSE</td>\n",
       "      <td>GHS7349732</td>\n",
       "      <td>Akut underhåll</td>\n",
       "    </tr>\n",
       "    <tr>\n",
       "      <th>6</th>\n",
       "      <td>FORTUMSE|HYSE|GHS7349746</td>\n",
       "      <td>GHS7349746</td>\n",
       "      <td>310.0</td>\n",
       "      <td>NaN</td>\n",
       "      <td>KSS: A-larm</td>\n",
       "      <td>SE.108.028.013KSS-1</td>\n",
       "      <td>2019-11-14 14:17:22</td>\n",
       "      <td>2019-07-27 00:00:09</td>\n",
       "      <td>2019-07-27</td>\n",
       "      <td>SE.108.028.013KSS</td>\n",
       "      <td>FORTUMSE</td>\n",
       "      <td>HYSE</td>\n",
       "      <td>GHS7349746</td>\n",
       "      <td>Akut underhåll</td>\n",
       "    </tr>\n",
       "    <tr>\n",
       "      <th>7</th>\n",
       "      <td>FORTUMSE|HYSE|GHS7337791</td>\n",
       "      <td>GHS7337791</td>\n",
       "      <td>310.0</td>\n",
       "      <td>NaN</td>\n",
       "      <td>SKAL: A-larm</td>\n",
       "      <td>SE.108.050.076SKAL</td>\n",
       "      <td>2019-11-14 12:45:08</td>\n",
       "      <td>2019-07-04 19:30:02</td>\n",
       "      <td>2019-07-04</td>\n",
       "      <td>SE.108.050.076SKA</td>\n",
       "      <td>FORTUMSE</td>\n",
       "      <td>HYSE</td>\n",
       "      <td>GHS7337791</td>\n",
       "      <td>Akut underhåll</td>\n",
       "    </tr>\n",
       "    <tr>\n",
       "      <th>8</th>\n",
       "      <td>FORTUMSE|HYSE|GHS7345337</td>\n",
       "      <td>GHS7345337</td>\n",
       "      <td>310.0</td>\n",
       "      <td>NaN</td>\n",
       "      <td>RFS: Fortsatt felsökning efter åska i he</td>\n",
       "      <td>SE.108.050.003RFS-1MEX20</td>\n",
       "      <td>2019-11-14 14:16:32</td>\n",
       "      <td>2019-07-18 13:30:06</td>\n",
       "      <td>2019-07-25</td>\n",
       "      <td>SE.108.050.003RFS</td>\n",
       "      <td>FORTUMSE</td>\n",
       "      <td>HYSE</td>\n",
       "      <td>GHS7345337</td>\n",
       "      <td>Akut underhåll</td>\n",
       "    </tr>\n",
       "    <tr>\n",
       "      <th>9</th>\n",
       "      <td>FORTUMSE|HYSE|GHS7349669</td>\n",
       "      <td>GHS7349669</td>\n",
       "      <td>310.0</td>\n",
       "      <td>NaN</td>\n",
       "      <td>RFS: A-larm</td>\n",
       "      <td>SE.108.050.003RFS-1MEB10</td>\n",
       "      <td>2019-11-14 14:16:43</td>\n",
       "      <td>2019-07-23 23:15:02</td>\n",
       "      <td>2019-07-29</td>\n",
       "      <td>SE.108.050.003RFS</td>\n",
       "      <td>FORTUMSE</td>\n",
       "      <td>HYSE</td>\n",
       "      <td>GHS7349669</td>\n",
       "      <td>Akut underhåll</td>\n",
       "    </tr>\n",
       "  </tbody>\n",
       "</table>\n",
       "</div>"
      ],
      "text/plain": [
       "                 WORKNUMKEY       WONUM  WORKTYPE       LEAD  \\\n",
       "0  FORTUMSE|HYSE|GHS5254547  GHS5254547     400.0        NaN   \n",
       "1  FORTUMSE|HYSE|GHS5266601  GHS5266601     400.0  XSEGERMAL   \n",
       "2  FORTUMSE|HYSE|GHS7340308  GHS7340308     310.0        NaN   \n",
       "3  FORTUMSE|HYSE|GHS7340397  GHS7340397     310.0        NaN   \n",
       "4  FORTUMSE|HYSE|GHS7340401  GHS7340401     310.0        NaN   \n",
       "5  FORTUMSE|HYSE|GHS7349732  GHS7349732     310.0        NaN   \n",
       "6  FORTUMSE|HYSE|GHS7349746  GHS7349746     310.0        NaN   \n",
       "7  FORTUMSE|HYSE|GHS7337791  GHS7337791     310.0        NaN   \n",
       "8  FORTUMSE|HYSE|GHS7345337  GHS7345337     310.0        NaN   \n",
       "9  FORTUMSE|HYSE|GHS7349669  GHS7349669     310.0        NaN   \n",
       "\n",
       "                                DESCRIPTION                  LOCATION  \\\n",
       "0                 Projektledning G1 till G3       SE.053.000.260URA-0   \n",
       "1                                  SHF, O&M         SE.040.000.025SHF   \n",
       "2                               FBL: A-larm  SE.108.050.028FBL-1MKC10   \n",
       "3                               TBY: A-larm       SE.108.050.015TBY-0   \n",
       "4                               EVA: A-larm       SE.108.050.081EVA-1   \n",
       "5                               ÅFS: A-larm       SE.108.028.012ÅFS-2   \n",
       "6                               KSS: A-larm       SE.108.028.013KSS-1   \n",
       "7                              SKAL: A-larm        SE.108.050.076SKAL   \n",
       "8  RFS: Fortsatt felsökning efter åska i he  SE.108.050.003RFS-1MEX20   \n",
       "9                               RFS: A-larm  SE.108.050.003RFS-1MEB10   \n",
       "\n",
       "             FAILDATE            ACTSTART  ACTFINISH          LOCATION2  \\\n",
       "0                 NaT                 NaT        NaT  SE.053.000.260URA   \n",
       "1                 NaT 2019-10-07 00:00:00 2019-10-07  SE.040.000.025SHF   \n",
       "2 2019-11-14 12:45:22 2019-07-10 00:02:28 2019-07-10  SE.108.050.028FBL   \n",
       "3 2019-11-14 13:30:18 2019-07-12 21:45:58 2019-07-15  SE.108.050.015TBY   \n",
       "4 2019-11-14 13:30:24 2019-07-12 23:15:17 2019-07-15  SE.108.050.081EVA   \n",
       "5 2019-11-14 14:16:58 2019-07-26 15:01:35 2019-07-26  SE.108.028.012ÅFS   \n",
       "6 2019-11-14 14:17:22 2019-07-27 00:00:09 2019-07-27  SE.108.028.013KSS   \n",
       "7 2019-11-14 12:45:08 2019-07-04 19:30:02 2019-07-04  SE.108.050.076SKA   \n",
       "8 2019-11-14 14:16:32 2019-07-18 13:30:06 2019-07-25  SE.108.050.003RFS   \n",
       "9 2019-11-14 14:16:43 2019-07-23 23:15:02 2019-07-29  SE.108.050.003RFS   \n",
       "\n",
       "    COMPANY COUNTRY WORKORDERID WORKTYPE_DESCRIPTION  \n",
       "0  FORTUMSE    HYSE  GHS5254547          Investering  \n",
       "1  FORTUMSE    HYSE  GHS5266601          Investering  \n",
       "2  FORTUMSE    HYSE  GHS7340308       Akut underhåll  \n",
       "3  FORTUMSE    HYSE  GHS7340397       Akut underhåll  \n",
       "4  FORTUMSE    HYSE  GHS7340401       Akut underhåll  \n",
       "5  FORTUMSE    HYSE  GHS7349732       Akut underhåll  \n",
       "6  FORTUMSE    HYSE  GHS7349746       Akut underhåll  \n",
       "7  FORTUMSE    HYSE  GHS7337791       Akut underhåll  \n",
       "8  FORTUMSE    HYSE  GHS7345337       Akut underhåll  \n",
       "9  FORTUMSE    HYSE  GHS7349669       Akut underhåll  "
      ]
     },
     "execution_count": 21,
     "metadata": {},
     "output_type": "execute_result"
    }
   ],
   "source": [
    "df.head(10)"
   ]
  },
  {
   "cell_type": "code",
   "execution_count": 22,
   "metadata": {},
   "outputs": [
    {
     "data": {
      "text/plain": [
       "array(['Projektledning G1 till G3', 'SHF, O&M', 'FBL: A-larm', ...,\n",
       "       'SSN: Löste vid start Rotor jordfel', 'AVS: G2 går ej att reglera',\n",
       "       'SGA: Grindrensing'], dtype=object)"
      ]
     },
     "execution_count": 22,
     "metadata": {},
     "output_type": "execute_result"
    }
   ],
   "source": [
    "df['DESCRIPTION'].unique()"
   ]
  },
  {
   "cell_type": "markdown",
   "metadata": {},
   "source": [
    "### Saving Workorders to csv"
   ]
  },
  {
   "cell_type": "code",
   "execution_count": 23,
   "metadata": {},
   "outputs": [],
   "source": [
    "# Selecting x number Workorders for data exploration\n",
    "x = 1000\n",
    "df_export = df[:x]"
   ]
  },
  {
   "cell_type": "code",
   "execution_count": 24,
   "metadata": {},
   "outputs": [],
   "source": [
    "df_export.to_csv('workorders_load.csv', sep=',', encoding='utf-8', index=False)"
   ]
  },
  {
   "cell_type": "code",
   "execution_count": 25,
   "metadata": {},
   "outputs": [],
   "source": [
    "#df.loc[df4['LOCATION2'] =='SE.038.007.023BSN']"
   ]
  },
  {
   "cell_type": "code",
   "execution_count": 26,
   "metadata": {},
   "outputs": [],
   "source": [
    "# Use this if you want to delete the unplanned workorders\n",
    "#df = df[pd.isnull(df['FAILURECODE'])].reset_index()"
   ]
  },
  {
   "cell_type": "markdown",
   "metadata": {},
   "source": [
    "## Loading Failtypes"
   ]
  },
  {
   "cell_type": "code",
   "execution_count": 27,
   "metadata": {},
   "outputs": [],
   "source": [
    "file_name = 'failtypes.csv'\n",
    "folder = ''\n",
    "path = Path.cwd()/folder/file_name"
   ]
  },
  {
   "cell_type": "code",
   "execution_count": 28,
   "metadata": {},
   "outputs": [
    {
     "ename": "FileNotFoundError",
     "evalue": "File b'C:\\\\Users\\\\nordllar\\\\IdeaProjects\\\\dam-security-work-orders\\\\data\\\\failtypes.csv' does not exist",
     "output_type": "error",
     "traceback": [
      "\u001b[1;31m---------------------------------------------------------------------------\u001b[0m",
      "\u001b[1;31mFileNotFoundError\u001b[0m                         Traceback (most recent call last)",
      "\u001b[1;32m<ipython-input-28-52d95a1149b5>\u001b[0m in \u001b[0;36m<module>\u001b[1;34m()\u001b[0m\n\u001b[1;32m----> 1\u001b[1;33m \u001b[0mdf_failtypes\u001b[0m \u001b[1;33m=\u001b[0m \u001b[0mpd\u001b[0m\u001b[1;33m.\u001b[0m\u001b[0mread_csv\u001b[0m\u001b[1;33m(\u001b[0m\u001b[0mpath\u001b[0m\u001b[1;33m)\u001b[0m\u001b[1;33m\u001b[0m\u001b[0m\n\u001b[0m",
      "\u001b[1;32m~\\AppData\\Local\\Continuum\\anaconda3\\lib\\site-packages\\pandas\\io\\parsers.py\u001b[0m in \u001b[0;36mparser_f\u001b[1;34m(filepath_or_buffer, sep, delimiter, header, names, index_col, usecols, squeeze, prefix, mangle_dupe_cols, dtype, engine, converters, true_values, false_values, skipinitialspace, skiprows, nrows, na_values, keep_default_na, na_filter, verbose, skip_blank_lines, parse_dates, infer_datetime_format, keep_date_col, date_parser, dayfirst, iterator, chunksize, compression, thousands, decimal, lineterminator, quotechar, quoting, escapechar, comment, encoding, dialect, tupleize_cols, error_bad_lines, warn_bad_lines, skipfooter, doublequote, delim_whitespace, low_memory, memory_map, float_precision)\u001b[0m\n\u001b[0;32m    676\u001b[0m                     skip_blank_lines=skip_blank_lines)\n\u001b[0;32m    677\u001b[0m \u001b[1;33m\u001b[0m\u001b[0m\n\u001b[1;32m--> 678\u001b[1;33m         \u001b[1;32mreturn\u001b[0m \u001b[0m_read\u001b[0m\u001b[1;33m(\u001b[0m\u001b[0mfilepath_or_buffer\u001b[0m\u001b[1;33m,\u001b[0m \u001b[0mkwds\u001b[0m\u001b[1;33m)\u001b[0m\u001b[1;33m\u001b[0m\u001b[0m\n\u001b[0m\u001b[0;32m    679\u001b[0m \u001b[1;33m\u001b[0m\u001b[0m\n\u001b[0;32m    680\u001b[0m     \u001b[0mparser_f\u001b[0m\u001b[1;33m.\u001b[0m\u001b[0m__name__\u001b[0m \u001b[1;33m=\u001b[0m \u001b[0mname\u001b[0m\u001b[1;33m\u001b[0m\u001b[0m\n",
      "\u001b[1;32m~\\AppData\\Local\\Continuum\\anaconda3\\lib\\site-packages\\pandas\\io\\parsers.py\u001b[0m in \u001b[0;36m_read\u001b[1;34m(filepath_or_buffer, kwds)\u001b[0m\n\u001b[0;32m    438\u001b[0m \u001b[1;33m\u001b[0m\u001b[0m\n\u001b[0;32m    439\u001b[0m     \u001b[1;31m# Create the parser.\u001b[0m\u001b[1;33m\u001b[0m\u001b[1;33m\u001b[0m\u001b[0m\n\u001b[1;32m--> 440\u001b[1;33m     \u001b[0mparser\u001b[0m \u001b[1;33m=\u001b[0m \u001b[0mTextFileReader\u001b[0m\u001b[1;33m(\u001b[0m\u001b[0mfilepath_or_buffer\u001b[0m\u001b[1;33m,\u001b[0m \u001b[1;33m**\u001b[0m\u001b[0mkwds\u001b[0m\u001b[1;33m)\u001b[0m\u001b[1;33m\u001b[0m\u001b[0m\n\u001b[0m\u001b[0;32m    441\u001b[0m \u001b[1;33m\u001b[0m\u001b[0m\n\u001b[0;32m    442\u001b[0m     \u001b[1;32mif\u001b[0m \u001b[0mchunksize\u001b[0m \u001b[1;32mor\u001b[0m \u001b[0miterator\u001b[0m\u001b[1;33m:\u001b[0m\u001b[1;33m\u001b[0m\u001b[0m\n",
      "\u001b[1;32m~\\AppData\\Local\\Continuum\\anaconda3\\lib\\site-packages\\pandas\\io\\parsers.py\u001b[0m in \u001b[0;36m__init__\u001b[1;34m(self, f, engine, **kwds)\u001b[0m\n\u001b[0;32m    785\u001b[0m             \u001b[0mself\u001b[0m\u001b[1;33m.\u001b[0m\u001b[0moptions\u001b[0m\u001b[1;33m[\u001b[0m\u001b[1;34m'has_index_names'\u001b[0m\u001b[1;33m]\u001b[0m \u001b[1;33m=\u001b[0m \u001b[0mkwds\u001b[0m\u001b[1;33m[\u001b[0m\u001b[1;34m'has_index_names'\u001b[0m\u001b[1;33m]\u001b[0m\u001b[1;33m\u001b[0m\u001b[0m\n\u001b[0;32m    786\u001b[0m \u001b[1;33m\u001b[0m\u001b[0m\n\u001b[1;32m--> 787\u001b[1;33m         \u001b[0mself\u001b[0m\u001b[1;33m.\u001b[0m\u001b[0m_make_engine\u001b[0m\u001b[1;33m(\u001b[0m\u001b[0mself\u001b[0m\u001b[1;33m.\u001b[0m\u001b[0mengine\u001b[0m\u001b[1;33m)\u001b[0m\u001b[1;33m\u001b[0m\u001b[0m\n\u001b[0m\u001b[0;32m    788\u001b[0m \u001b[1;33m\u001b[0m\u001b[0m\n\u001b[0;32m    789\u001b[0m     \u001b[1;32mdef\u001b[0m \u001b[0mclose\u001b[0m\u001b[1;33m(\u001b[0m\u001b[0mself\u001b[0m\u001b[1;33m)\u001b[0m\u001b[1;33m:\u001b[0m\u001b[1;33m\u001b[0m\u001b[0m\n",
      "\u001b[1;32m~\\AppData\\Local\\Continuum\\anaconda3\\lib\\site-packages\\pandas\\io\\parsers.py\u001b[0m in \u001b[0;36m_make_engine\u001b[1;34m(self, engine)\u001b[0m\n\u001b[0;32m   1012\u001b[0m     \u001b[1;32mdef\u001b[0m \u001b[0m_make_engine\u001b[0m\u001b[1;33m(\u001b[0m\u001b[0mself\u001b[0m\u001b[1;33m,\u001b[0m \u001b[0mengine\u001b[0m\u001b[1;33m=\u001b[0m\u001b[1;34m'c'\u001b[0m\u001b[1;33m)\u001b[0m\u001b[1;33m:\u001b[0m\u001b[1;33m\u001b[0m\u001b[0m\n\u001b[0;32m   1013\u001b[0m         \u001b[1;32mif\u001b[0m \u001b[0mengine\u001b[0m \u001b[1;33m==\u001b[0m \u001b[1;34m'c'\u001b[0m\u001b[1;33m:\u001b[0m\u001b[1;33m\u001b[0m\u001b[0m\n\u001b[1;32m-> 1014\u001b[1;33m             \u001b[0mself\u001b[0m\u001b[1;33m.\u001b[0m\u001b[0m_engine\u001b[0m \u001b[1;33m=\u001b[0m \u001b[0mCParserWrapper\u001b[0m\u001b[1;33m(\u001b[0m\u001b[0mself\u001b[0m\u001b[1;33m.\u001b[0m\u001b[0mf\u001b[0m\u001b[1;33m,\u001b[0m \u001b[1;33m**\u001b[0m\u001b[0mself\u001b[0m\u001b[1;33m.\u001b[0m\u001b[0moptions\u001b[0m\u001b[1;33m)\u001b[0m\u001b[1;33m\u001b[0m\u001b[0m\n\u001b[0m\u001b[0;32m   1015\u001b[0m         \u001b[1;32melse\u001b[0m\u001b[1;33m:\u001b[0m\u001b[1;33m\u001b[0m\u001b[0m\n\u001b[0;32m   1016\u001b[0m             \u001b[1;32mif\u001b[0m \u001b[0mengine\u001b[0m \u001b[1;33m==\u001b[0m \u001b[1;34m'python'\u001b[0m\u001b[1;33m:\u001b[0m\u001b[1;33m\u001b[0m\u001b[0m\n",
      "\u001b[1;32m~\\AppData\\Local\\Continuum\\anaconda3\\lib\\site-packages\\pandas\\io\\parsers.py\u001b[0m in \u001b[0;36m__init__\u001b[1;34m(self, src, **kwds)\u001b[0m\n\u001b[0;32m   1706\u001b[0m         \u001b[0mkwds\u001b[0m\u001b[1;33m[\u001b[0m\u001b[1;34m'usecols'\u001b[0m\u001b[1;33m]\u001b[0m \u001b[1;33m=\u001b[0m \u001b[0mself\u001b[0m\u001b[1;33m.\u001b[0m\u001b[0musecols\u001b[0m\u001b[1;33m\u001b[0m\u001b[0m\n\u001b[0;32m   1707\u001b[0m \u001b[1;33m\u001b[0m\u001b[0m\n\u001b[1;32m-> 1708\u001b[1;33m         \u001b[0mself\u001b[0m\u001b[1;33m.\u001b[0m\u001b[0m_reader\u001b[0m \u001b[1;33m=\u001b[0m \u001b[0mparsers\u001b[0m\u001b[1;33m.\u001b[0m\u001b[0mTextReader\u001b[0m\u001b[1;33m(\u001b[0m\u001b[0msrc\u001b[0m\u001b[1;33m,\u001b[0m \u001b[1;33m**\u001b[0m\u001b[0mkwds\u001b[0m\u001b[1;33m)\u001b[0m\u001b[1;33m\u001b[0m\u001b[0m\n\u001b[0m\u001b[0;32m   1709\u001b[0m \u001b[1;33m\u001b[0m\u001b[0m\n\u001b[0;32m   1710\u001b[0m         \u001b[0mpassed_names\u001b[0m \u001b[1;33m=\u001b[0m \u001b[0mself\u001b[0m\u001b[1;33m.\u001b[0m\u001b[0mnames\u001b[0m \u001b[1;32mis\u001b[0m \u001b[1;32mNone\u001b[0m\u001b[1;33m\u001b[0m\u001b[0m\n",
      "\u001b[1;32mpandas\\_libs\\parsers.pyx\u001b[0m in \u001b[0;36mpandas._libs.parsers.TextReader.__cinit__\u001b[1;34m()\u001b[0m\n",
      "\u001b[1;32mpandas\\_libs\\parsers.pyx\u001b[0m in \u001b[0;36mpandas._libs.parsers.TextReader._setup_parser_source\u001b[1;34m()\u001b[0m\n",
      "\u001b[1;31mFileNotFoundError\u001b[0m: File b'C:\\\\Users\\\\nordllar\\\\IdeaProjects\\\\dam-security-work-orders\\\\data\\\\failtypes.csv' does not exist"
     ]
    }
   ],
   "source": [
    "df_failtypes = pd.read_csv(path)"
   ]
  },
  {
   "cell_type": "code",
   "execution_count": null,
   "metadata": {},
   "outputs": [],
   "source": [
    "df_failtypes.tail()"
   ]
  },
  {
   "cell_type": "code",
   "execution_count": null,
   "metadata": {},
   "outputs": [],
   "source": [
    "#df_failtypes['FAILURECODE'].unique()"
   ]
  },
  {
   "cell_type": "code",
   "execution_count": null,
   "metadata": {},
   "outputs": [],
   "source": [
    "# Splitting %KEY_Wonum into three parts, using \"WORKORDERDETAILS\" as workorder name and \"WORKORDERSDETAILS1\" for filtering out Swedish workorders/failures.\n",
    "df_failtypes[['COMPANY','COUNTRY','WORKORDERID']] = df_failtypes['%KEY_Wonum'].str.split(\"|\",expand=True,)"
   ]
  },
  {
   "cell_type": "code",
   "execution_count": null,
   "metadata": {},
   "outputs": [],
   "source": [
    "df_failtypes.head()"
   ]
  },
  {
   "cell_type": "code",
   "execution_count": null,
   "metadata": {},
   "outputs": [],
   "source": [
    "# Filtering out Swedish failtypes\n",
    "df = df.loc[df_step2['WORKORDERDETAILS1'] =='HYSE'].reset_index(drop=True)"
   ]
  },
  {
   "cell_type": "markdown",
   "metadata": {},
   "source": [
    "### Saving Failtypes to csv"
   ]
  },
  {
   "cell_type": "code",
   "execution_count": null,
   "metadata": {},
   "outputs": [],
   "source": [
    "df_failtypes.to_csv('failtypes_load.csv', sep=',', encoding='utf-8', index=False)"
   ]
  },
  {
   "cell_type": "markdown",
   "metadata": {},
   "source": [
    "## Loading Plants, rivers and catchment areas"
   ]
  },
  {
   "cell_type": "code",
   "execution_count": null,
   "metadata": {},
   "outputs": [],
   "source": [
    "file_name = 'rivers.xlsx'\n",
    "folder = ''\n",
    "path = Path.cwd()/folder/file_name"
   ]
  },
  {
   "cell_type": "code",
   "execution_count": null,
   "metadata": {},
   "outputs": [],
   "source": [
    "df_plant = pd.read_excel(path)"
   ]
  },
  {
   "cell_type": "code",
   "execution_count": null,
   "metadata": {},
   "outputs": [],
   "source": [
    "# Sorting out Swedish plants\n",
    "df_plant = df_plant[df_plant['Country Code'] == 'SE'].reset_index(drop=True)"
   ]
  },
  {
   "cell_type": "code",
   "execution_count": null,
   "metadata": {},
   "outputs": [],
   "source": [
    "df_plant['Plant ID2'] = df_plant['Plant ID'].astype(str).str[0:17]"
   ]
  },
  {
   "cell_type": "code",
   "execution_count": null,
   "metadata": {},
   "outputs": [],
   "source": [
    "df_plant.head()"
   ]
  },
  {
   "cell_type": "markdown",
   "metadata": {},
   "source": [
    "### Saving planst to csv"
   ]
  },
  {
   "cell_type": "code",
   "execution_count": null,
   "metadata": {},
   "outputs": [],
   "source": [
    "df_plant.to_csv('plants_load.csv', index=False)"
   ]
  },
  {
   "cell_type": "code",
   "execution_count": null,
   "metadata": {},
   "outputs": [],
   "source": [
    "df_plant.head()"
   ]
  },
  {
   "cell_type": "code",
   "execution_count": null,
   "metadata": {},
   "outputs": [],
   "source": [
    "df_export.head()"
   ]
  },
  {
   "cell_type": "code",
   "execution_count": null,
   "metadata": {},
   "outputs": [],
   "source": [
    "set(df_export['WORKTYPE']).intersection(set(df_plant['Plant ID']))"
   ]
  },
  {
   "cell_type": "code",
   "execution_count": null,
   "metadata": {},
   "outputs": [],
   "source": [
    "df_plant.info()"
   ]
  },
  {
   "cell_type": "code",
   "execution_count": null,
   "metadata": {},
   "outputs": [],
   "source": [
    "df_export.info()"
   ]
  },
  {
   "cell_type": "code",
   "execution_count": null,
   "metadata": {},
   "outputs": [],
   "source": [
    "df1 = df_export[['LOCATION2']]"
   ]
  },
  {
   "cell_type": "code",
   "execution_count": null,
   "metadata": {},
   "outputs": [],
   "source": [
    "df1.head()"
   ]
  },
  {
   "cell_type": "code",
   "execution_count": null,
   "metadata": {},
   "outputs": [],
   "source": [
    "df2 = df_plant[['Plant ID']]"
   ]
  },
  {
   "cell_type": "code",
   "execution_count": null,
   "metadata": {},
   "outputs": [],
   "source": [
    "df2.head()"
   ]
  },
  {
   "cell_type": "code",
   "execution_count": null,
   "metadata": {},
   "outputs": [],
   "source": [
    "set(df1['LOCATION2']).difference(set(df2['Plant ID2']))"
   ]
  },
  {
   "cell_type": "code",
   "execution_count": null,
   "metadata": {},
   "outputs": [],
   "source": []
  }
 ],
 "metadata": {
  "kernelspec": {
   "display_name": "Python 3",
   "language": "python",
   "name": "python3"
  },
  "language_info": {
   "codemirror_mode": {
    "name": "ipython",
    "version": 3
   },
   "file_extension": ".py",
   "mimetype": "text/x-python",
   "name": "python",
   "nbconvert_exporter": "python",
   "pygments_lexer": "ipython3",
   "version": "3.7.0"
  }
 },
 "nbformat": 4,
 "nbformat_minor": 2
}
